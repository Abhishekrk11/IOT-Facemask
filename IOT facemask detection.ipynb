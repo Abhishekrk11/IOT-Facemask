{
 "cells": [
  {
   "cell_type": "code",
   "execution_count": null,
   "metadata": {},
   "outputs": [],
   "source": [
    "import cv2\n",
    "import numpy as np\n",
    "import random\n",
    "threshold=80\n",
    "font=cv2.FONT_HERSHEY_SIMPLEX\n",
    "cv2.namedWindow(\"x\",cv2.WINDOW_NORMAL)\n",
    "org=(10,10)\n",
    "thickness=2\n",
    "fontscale=0.5\n",
    "\n",
    "p=cv2.CascadeClassifier(\"D:/haarcascade_frontalface_default.xml\")\n",
    "m=cv2.CascadeClassifier(\"D:/mouth.xml\")\n",
    "#pic=cv2.imread(\"D://maskajmal.jpg\")\n",
    "ved=cv2.VideoCapture(0)\n",
    "while True:\n",
    "    ret,img=ved.read()\n",
    "    img=cv2.flip(img,1)\n",
    "    q=cv2.cvtColor(img,cv2.COLOR_BGR2GRAY)\n",
    "    (thresh, r) = cv2.threshold(q, threshold, 255, cv2.THRESH_BINARY)\n",
    "    faces=p.detectMultiScale(q,1.3,5)\n",
    "    facesx=p.detectMultiScale(r,1.3,5)\n",
    "    mouths=m.detectMultiScale(q,1.3,5)\n",
    "\n",
    "    if((len(faces)!=0) and (len(facesx)!=0)):\n",
    "        if(len(mouths))==0:\n",
    "            print(\"thank you for wearing mask\")\n",
    "            for (x,y,w,h) in faces:\n",
    "                cv2.rectangle(img,(x,y),(x+w,y+h),(0,255,0),5)\n",
    "            cv2.putText(img,\"thank you for wearing mask\",org,font,fontscale,(0,255,0),thickness)\n",
    "\n",
    "        else:\n",
    "            \n",
    "            for (x,y,w,h) in faces:\n",
    "                if((x<(mouths[0][0])<x+w) and (y<(mouths[0][1])<y+h)):\n",
    "                    print(\"please wear mask!!!\")\n",
    "                    cv2.rectangle(img,(x,y),(x+w,y+h),(0,0,255),5)\n",
    "                    cv2.putText(img,\"please wear mask!!!\",org,font,fontscale,(0,0,255),thickness)\n",
    "                else:\n",
    "                    print(\"thank you for wearing mask\")\n",
    "                    cv2.rectangle(img,(x,y),(x+w,y+h),(0,0,255),5)\n",
    "                    cv2.putText(img,\"thank you for wearing mask\",org,font,fontscale,(0,0,255),thickness)\n",
    "    else:\n",
    "        print(\"no faces are there\")\n",
    "        cv2.putText(img,\"no faces found\",org,font,fontscale,(255,0,0),thickness)\n",
    "    \n",
    "        \n",
    "\n",
    "   \n",
    "    cv2.imshow(\"x\",img)\n",
    "    cv2.waitKey(100)\n",
    "cv2.destroyAllWindows()\n",
    "\n"
   ]
  }
 ],
 "metadata": {
  "kernelspec": {
   "display_name": "Python 3",
   "language": "python",
   "name": "python3"
  },
  "language_info": {
   "codemirror_mode": {
    "name": "ipython",
    "version": 3
   },
   "file_extension": ".py",
   "mimetype": "text/x-python",
   "name": "python",
   "nbconvert_exporter": "python",
   "pygments_lexer": "ipython3",
   "version": "3.8.3"
  }
 },
 "nbformat": 4,
 "nbformat_minor": 4
}
